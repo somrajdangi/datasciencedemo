{
 "cells": [
  {
   "cell_type": "code",
   "execution_count": 1,
   "id": "2a9127f0",
   "metadata": {},
   "outputs": [
    {
     "name": "stdout",
     "output_type": "stream",
     "text": [
      "Welcome to Python Programming\n",
      "Python\n",
      "mming\n",
      "Welcome to Python Programming!!!\n"
     ]
    }
   ],
   "source": [
    "#string\n",
    "str = \"Welcome to Python Programming\"\n",
    "print(str)\n",
    "print(str[11:17])\n",
    "print(str[-5:])\n",
    "str=str[:]+'!!!'\n",
    "print(str)"
   ]
  },
  {
   "cell_type": "code",
   "execution_count": 16,
   "id": "e3a5ba2c",
   "metadata": {},
   "outputs": [
    {
     "data": {
      "text/plain": [
       "[1, 2, 3, [9, 10], 8.5, 7, 'code', 'software']"
      ]
     },
     "execution_count": 16,
     "metadata": {},
     "output_type": "execute_result"
    }
   ],
   "source": [
    "#list\n",
    "list=[]\n",
    "list.append(1)\n",
    "list.append(2)\n",
    "list.append(3)\n",
    "list.append(4)\n",
    "list\n",
    "list.append((5,6))\n",
    "list\n",
    "list.append(['perfect','wonderful'])\n",
    "list\n",
    "newlist=[[7,8],[9,10]]\n",
    "list=list+newlist\n",
    "list\n",
    "list.extend([8.5,7,'code','software'])\n",
    "list\n",
    "list[-5:]\n",
    "del list[3:7]   #include index 6 also\n",
    "list"
   ]
  },
  {
   "cell_type": "code",
   "execution_count": 21,
   "id": "5e914244",
   "metadata": {},
   "outputs": [
    {
     "data": {
      "text/plain": [
       "(4, 'python', 'for', 'kids')"
      ]
     },
     "execution_count": 21,
     "metadata": {},
     "output_type": "execute_result"
    }
   ],
   "source": [
    "#tuple\n",
    "list=[1,2,3,4]\n",
    "tuple1=tuple(list)\n",
    "tuple1\n",
    "tuple2=('python','for','kids')\n",
    "tuple2\n",
    "tuple1=tuple1+tuple2\n",
    "tuple1\n",
    "tuple1[3:]"
   ]
  },
  {
   "cell_type": "code",
   "execution_count": 53,
   "id": "7f2778fe",
   "metadata": {},
   "outputs": [
    {
     "data": {
      "text/plain": [
       "['python', 'is very']"
      ]
     },
     "execution_count": 53,
     "metadata": {},
     "output_type": "execute_result"
    }
   ],
   "source": [
    "#dictionary\n",
    "Dict={}\n",
    "Dict[0]='python'\n",
    "Dict[1]='programming'\n",
    "Dict[2]='funny'\n",
    "Dict\n",
    "Dict[1]='is very'\n",
    "Dict\n",
    "Dict.keys()\n",
    "Dict.values()\n",
    "del Dict[2]  #Dict.pop(2,None)\n",
    "2 in Dict\n",
    "list=[]\n",
    "for value in Dict.values():\n",
    "    list.append(value)\n",
    "list    "
   ]
  },
  {
   "cell_type": "code",
   "execution_count": null,
   "id": "747e2259",
   "metadata": {},
   "outputs": [],
   "source": []
  }
 ],
 "metadata": {
  "kernelspec": {
   "display_name": "Python 3",
   "language": "python",
   "name": "python3"
  },
  "language_info": {
   "codemirror_mode": {
    "name": "ipython",
    "version": 3
   },
   "file_extension": ".py",
   "mimetype": "text/x-python",
   "name": "python",
   "nbconvert_exporter": "python",
   "pygments_lexer": "ipython3",
   "version": "3.8.5"
  }
 },
 "nbformat": 4,
 "nbformat_minor": 5
}
